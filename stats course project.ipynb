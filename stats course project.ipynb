{
 "cells": [
  {
   "cell_type": "markdown",
   "id": "e5039d7f-689b-4466-9104-044bc971eeab",
   "metadata": {},
   "source": [
    "Task 1: Familiarize Yourself with the Dataset"
   ]
  },
  {
   "cell_type": "code",
   "execution_count": null,
   "id": "d7a179cd-4589-460e-a3ce-db1731125b2c",
   "metadata": {},
   "outputs": [],
   "source": [
    "import pandas as pd\n",
    "\n",
    "# Load the dataset\n",
    "data = pd.read_csv(\"boston_housing.csv\")\n",
    "\n",
    "# Display the first few rows of the dataset\n",
    "data.head()\n"
   ]
  },
  {
   "cell_type": "markdown",
   "id": "f99f2ddf-42f4-4df6-9de7-3a55acf7156a",
   "metadata": {},
   "source": [
    "Task 2: Generate Descriptive Statistics and Visualizations"
   ]
  },
  {
   "cell_type": "code",
   "execution_count": null,
   "id": "11b55cec-4a11-41e3-b9dc-5ea7b7f04e35",
   "metadata": {},
   "outputs": [],
   "source": [
    "import matplotlib.pyplot as plt\n",
    "import seaborn as sns\n",
    "\n",
    "# Boxplot for MEDV\n",
    "plt.figure(figsize=(8, 6))\n",
    "sns.boxplot(x=data['MEDV'])\n",
    "plt.title('Boxplot of Median Value of Owner-Occupied Homes (MEDV)')\n",
    "plt.xlabel('Median Value ($1000\\'s)')\n",
    "plt.show()\n"
   ]
  },
  {
   "cell_type": "code",
   "execution_count": null,
   "id": "590f2a1f-25f1-441b-b9a6-4298243a7f66",
   "metadata": {},
   "outputs": [],
   "source": [
    "# Bar plot for CHAS\n",
    "plt.figure(figsize=(8, 6))\n",
    "sns.countplot(x=data['CHAS'], palette='viridis')\n",
    "plt.title('Bar Plot of Homes Bounded by the Charles River')\n",
    "plt.xlabel('Charles River (1 = Yes, 0 = No)')\n",
    "plt.ylabel('Number of Homes')\n",
    "plt.show()\n"
   ]
  },
  {
   "cell_type": "code",
   "execution_count": null,
   "id": "13b7fab0-6a0f-48fe-8db7-4ba0e7b2b468",
   "metadata": {},
   "outputs": [],
   "source": [
    "# Discretize AGE into three groups\n",
    "bins = [0, 35, 70, 100]\n",
    "labels = ['35 years and younger', 'Between 35 and 70 years', '70 years and older']\n",
    "data['AGE_group'] = pd.cut(data['AGE'], bins=bins, labels=labels)\n",
    "\n",
    "# Boxplot of MEDV vs. AGE_group\n",
    "plt.figure(figsize=(10, 6))\n",
    "sns.boxplot(x='AGE_group', y='MEDV', data=data, palette='coolwarm')\n",
    "plt.title('Boxplot of Median Value (MEDV) vs. Age Group of Homes')\n",
    "plt.xlabel('Age Group of Homes')\n",
    "plt.ylabel('Median Value ($1000\\'s)')\n",
    "plt.show()"
   ]
  },
  {
   "cell_type": "code",
   "execution_count": null,
   "id": "a52ff9de-1e9d-42ff-afa1-78a82eceaa92",
   "metadata": {},
   "outputs": [],
   "source": [
    "# Scatter plot of NOX vs. INDUS\n",
    "plt.figure(figsize=(10, 6))\n",
    "sns.scatterplot(x='INDUS', y='NOX', data=data, color='darkred')\n",
    "plt.title('Scatter Plot of NOX vs. INDUS')\n",
    "plt.xlabel('Proportion of Non-Retail Business Acres per Town (INDUS)')\n",
    "plt.ylabel('Nitric Oxides Concentration (NOX)')\n",
    "plt.show()"
   ]
  },
  {
   "cell_type": "code",
   "execution_count": null,
   "id": "b8e3a4ff-9e58-4925-b1a6-35c1893f27b8",
   "metadata": {},
   "outputs": [],
   "source": [
    "# Histogram of PTRATIO\n",
    "plt.figure(figsize=(10, 6))\n",
    "sns.histplot(data['PTRATIO'], bins=15, kde=True, color='skyblue')\n",
    "plt.title('Histogram of Pupil-Teacher Ratio (PTRATIO)')\n",
    "plt.xlabel('Pupil-Teacher Ratio by Town')\n",
    "plt.ylabel('Frequency')\n",
    "plt.show()"
   ]
  },
  {
   "cell_type": "markdown",
   "id": "c606667c-955e-4345-b658-1112593680a8",
   "metadata": {},
   "source": [
    "Task 3: Use the Appropriate Tests to Answer the Questions"
   ]
  },
  {
   "cell_type": "code",
   "execution_count": null,
   "id": "d5019104-f2fb-476d-b6c1-68ca8c99b015",
   "metadata": {},
   "outputs": [],
   "source": [
    "from scipy.stats import ttest_ind\n",
    "\n",
    "# Split data into two groups based on CHAS\n",
    "chas_0 = data[data['CHAS'] == 0]['MEDV']\n",
    "chas_1 = data[data['CHAS'] == 1]['MEDV']\n",
    "\n",
    "# Perform T-test\n",
    "t_stat, p_value = ttest_ind(chas_0, chas_1)\n",
    "\n",
    "# Results\n",
    "print(f\"T-statistic: {t_stat}, P-value: {p_value}\")\n",
    "if p_value < 0.05:\n",
    "    print(\"There is a significant difference in median values of houses bounded by the Charles River.\")\n",
    "else:\n",
    "    print(\"There is no significant difference in median values of houses bounded by the Charles River.\")\n"
   ]
  },
  {
   "cell_type": "code",
   "execution_count": null,
   "id": "928bd76b-c701-480e-bd11-14dc993c5c2c",
   "metadata": {},
   "outputs": [],
   "source": [
    "from scipy.stats import f_oneway\n",
    "\n",
    "# Group data by AGE_group\n",
    "group1 = data[data['AGE_group'] == '35 years and younger']['MEDV']\n",
    "group2 = data[data['AGE_group'] == 'Between 35 and 70 years']['MEDV']\n",
    "group3 = data[data['AGE_group'] == '70 years and older']['MEDV']\n",
    "\n",
    "# Perform ANOVA\n",
    "f_stat, p_value = f_oneway(group1, group2, group3)\n",
    "\n",
    "# Results\n",
    "print(f\"F-statistic: {f_stat}, P-value: {p_value}\")\n",
    "if p_value < 0.05:\n",
    "    print(\"There is a significant difference in median values of houses across different age groups.\")\n",
    "else:\n",
    "    print(\"There is no significant difference in median values of houses across different age groups.\")\n"
   ]
  },
  {
   "cell_type": "code",
   "execution_count": null,
   "id": "40a5545b-e496-4306-afc8-c8eea69a1785",
   "metadata": {},
   "outputs": [],
   "source": [
    "from scipy.stats import pearsonr\n",
    "\n",
    "# Pearson correlation between NOX and INDUS\n",
    "corr, p_value = pearsonr(data['NOX'], data['INDUS'])\n",
    "\n",
    "# Results\n",
    "print(f\"Pearson Correlation Coefficient: {corr}, P-value: {p_value}\")\n",
    "if p_value < 0.05:\n",
    "    print(\"There is a significant correlation between NOX and INDUS.\")\n",
    "else:\n",
    "    print(\"There is no significant correlation between NOX and INDUS.\")\n"
   ]
  },
  {
   "cell_type": "code",
   "execution_count": null,
   "id": "c8d2d057-d419-496f-93f7-9c6a3d8804b7",
   "metadata": {},
   "outputs": [],
   "source": [
    "import statsmodels.api as sm\n",
    "\n",
    "# Independent variable (DIS)\n",
    "X = data['DIS']\n",
    "# Dependent variable (MEDV)\n",
    "y = data['MEDV']\n",
    "\n",
    "# Add constant to the model\n",
    "X = sm.add_constant(X)\n",
    "\n",
    "# Fit the regression model\n",
    "model = sm.OLS(y, X).fit()\n",
    "\n",
    "# Summary of the regression analysis\n",
    "print(model.summary())\n"
   ]
  },
  {
   "cell_type": "code",
   "execution_count": null,
   "id": "af994220-09e9-40c7-a9cf-3c5923d7f3af",
   "metadata": {},
   "outputs": [],
   "source": []
  }
 ],
 "metadata": {
  "kernelspec": {
   "display_name": "Python 3 (ipykernel)",
   "language": "python",
   "name": "python3"
  },
  "language_info": {
   "codemirror_mode": {
    "name": "ipython",
    "version": 3
   },
   "file_extension": ".py",
   "mimetype": "text/x-python",
   "name": "python",
   "nbconvert_exporter": "python",
   "pygments_lexer": "ipython3",
   "version": "3.11.7"
  }
 },
 "nbformat": 4,
 "nbformat_minor": 5
}
